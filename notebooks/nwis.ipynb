{
 "cells": [
  {
   "cell_type": "markdown",
   "metadata": {},
   "source": [
    "<img src=\"https://github.com/gantian127/nwis/blob/master/docs/source/_static/nwis_logo.png?raw=true\" width='320' align='center'></a>"
   ]
  },
  {
   "cell_type": "markdown",
   "metadata": {},
   "source": [
    "## Basic Info\n",
    "**Please note that nwis package is deprecated.**\n",
    "\n",
    "**Please check out [bmi_nwis](https://github.com/gantian127/bmi_nwis) package** for \n",
    "Basic Model Interface ([BMI](https://bmi-spec.readthedocs.io/en/latest/)) \n",
    "implementation for the NWIS dataset. \n",
    "\n",
    "**A new tutorial notebook is available [here](https://github.com/gantian127/bmi_nwis/blob/master/notebooks/bmi_nwis.ipynb)**\n"
   ]
  },
  {
   "cell_type": "markdown",
   "metadata": {},
   "source": [
    "## Quick Start Tutorial "
   ]
  },
  {
   "cell_type": "markdown",
   "metadata": {},
   "source": [
    "This notebook will help you get started using the nwis package to download the National Water Information System (NWIS) datasets. \n",
    "\n",
    "This tutorial includes the following sections:\n",
    "\n",
    "1. [Brief Introduction](#section1)\n",
    "\n",
    "   This section provides basic information about nwis package. \n",
    "   <br>\n",
    "   \n",
    "2. [Start with Examples](#section2)\n",
    "   \n",
    "   This section provides two examples to demonstrate how to use nwis package to download datasets for visualization.\n",
    "   <br>"
   ]
  },
  {
   "cell_type": "markdown",
   "metadata": {},
   "source": [
    "<a id='section1'></a>\n",
    "## 1. Brief Introduction"
   ]
  },
  {
   "cell_type": "markdown",
   "metadata": {},
   "source": [
    "**nwis package is deprecated.**\n",
    "nwis package provides a set of functions that allows downloading of the observational datasets from the National Water Information System ([NWIS](https://waterdata.usgs.gov/nwis?)) for data analysis and visualization. \n",
    "\n",
    "\n",
    "To install nwis package, you can download the source code and use the following command:\n",
    "```\n",
    "$ pip install -e .\n",
    "```"
   ]
  },
  {
   "cell_type": "markdown",
   "metadata": {},
   "source": [
    "<a id='section2'></a>\n",
    "## 2. Start with Examples"
   ]
  },
  {
   "cell_type": "markdown",
   "metadata": {},
   "source": [
    "**Please note that the Nwis and BmiNwis classes in nwis package are no longer in use.** \n",
    "\n",
    "**Please check the new BmiNwis implementation from the [bmi_nwis]() package.**"
   ]
  },
  {
   "cell_type": "markdown",
   "metadata": {},
   "source": [
    "In nwis package, Nwis class is designed for users to download datasets. BmiNwis class is designed to convert NWIS dataset as a data component for the [PyMT](https://pymt.readthedocs.io/en/latest/?badge=latest) modeling framework. The following examples demonstrate how to download the same dataset using Nwis and BmiNwis for data visualization. "
   ]
  },
  {
   "cell_type": "markdown",
   "metadata": {},
   "source": [
    "### Example 1: use Nwis class to download data (Recommended method)"
   ]
  },
  {
   "cell_type": "markdown",
   "metadata": {},
   "source": [
    "Import Nwis class and download data with **get_data( )** method. This example downloads datasets for discharge, gage height, and water temperature observed at the USGS gage [03339000](https://waterdata.usgs.gov/nwis/uv?site_no=03339000) from Jan 1st to 15th, 2020. You can check the details of the [parameter settings](https://nwis.readthedocs.io/en/latest/#parameter-settings) for get_data( ) method to better understand the parameter values used in the example."
   ]
  },
  {
   "cell_type": "code",
   "execution_count": null,
   "metadata": {},
   "outputs": [],
   "source": [
    "import matplotlib.pyplot as plt\n",
    "\n",
    "from nwis.nwis import Nwis\n",
    "\n",
    "# get data from NWIS\n",
    "nwis_data = Nwis()\n",
    "dataset = nwis_data.get_data(\n",
    "    site=\"03339000\", start_date=\"2020-01-01\", end_date=\"2020-01-15\", data_type=\"dv\"\n",
    ")"
   ]
  },
  {
   "cell_type": "markdown",
   "metadata": {},
   "source": [
    "The downloaded NWIS dataset is stored as a self-described xarray dataset object. With this dataset object, you can check the metadata and make time series plot."
   ]
  },
  {
   "cell_type": "code",
   "execution_count": null,
   "metadata": {},
   "outputs": [],
   "source": [
    "# show site metadata\n",
    "dataset.attrs\n",
    "\n",
    "# show data variable metadata\n",
    "for var_name in dataset.data_vars:\n",
    "    print(dataset[var_name].attrs)"
   ]
  },
  {
   "cell_type": "code",
   "execution_count": null,
   "metadata": {},
   "outputs": [],
   "source": [
    "# plot discharge data\n",
    "dataset[\"00060\"].plot(figsize=(12, 7))\n",
    "plt.ylabel(f\"{dataset['00060'].variable_name} ({dataset['00060'].variable_unit})\")\n",
    "plt.title(\"Discharge Observation at USGS Gage 03339000\")"
   ]
  },
  {
   "cell_type": "markdown",
   "metadata": {},
   "source": [
    "### Example 2: use BmiNwis class to download data (Demonstration of how to use BMI)"
   ]
  },
  {
   "cell_type": "markdown",
   "metadata": {},
   "source": [
    "Import BmiNwis class and instantiate it. A configuration file (yaml file) is required to provide the parameter settings for data download. An example configure_file.yaml file is provided in the same folder with this Jupyter Notebook file. "
   ]
  },
  {
   "cell_type": "code",
   "execution_count": null,
   "metadata": {},
   "outputs": [],
   "source": [
    "import cftime\n",
    "import matplotlib.pyplot as plt\n",
    "import numpy as np\n",
    "\n",
    "from nwis.bmi import BmiNwis\n",
    "\n",
    "# initiate a data component\n",
    "data_comp = BmiNwis()\n",
    "data_comp.initialize(\"config_file.yaml\")"
   ]
  },
  {
   "cell_type": "markdown",
   "metadata": {},
   "source": [
    "Use variable related methods from BmiNwis class to check the variable information of the NWIS dataset. This data component stores multiple variables, including discharge, gage height, and water temperature. "
   ]
  },
  {
   "cell_type": "code",
   "execution_count": null,
   "metadata": {},
   "outputs": [],
   "source": [
    "# get variable info\n",
    "for var_name in data_comp.get_output_var_names():\n",
    "    var_unit = data_comp.get_var_units(var_name)\n",
    "    print(f\" {var_name=}\")\n",
    "    print(f\" {var_unit=}\")"
   ]
  },
  {
   "cell_type": "markdown",
   "metadata": {},
   "source": [
    "Use time related methods of BmiNwis class to check the time information of the NWIS dataset. The time values are stored in a format which follows [CF convention](http://cfconventions.org/Data/cf-conventions/cf-conventions-1.8/cf-conventions.pdf). "
   ]
  },
  {
   "cell_type": "code",
   "execution_count": null,
   "metadata": {},
   "outputs": [],
   "source": [
    "# get time info\n",
    "start_time = data_comp.get_start_time()\n",
    "end_time = data_comp.get_end_time()\n",
    "time_step = data_comp.get_time_step()\n",
    "time_unit = data_comp.get_time_units()\n",
    "time_steps = int((end_time - start_time) / time_step) + 1\n",
    "print(f\" {start_time=}\")\n",
    "print(f\" {end_time=}\")\n",
    "print(f\" {time_step=}\")\n",
    "print(f\" {time_unit=}\")\n",
    "print(f\" {time_steps=}\")"
   ]
  },
  {
   "cell_type": "markdown",
   "metadata": {},
   "source": [
    "Loop through each time step to get the discharge and time values. discharge_array stores discharge values. cftime_array stores the numerical time values. time_array stores the corresponding Python datetime objects. get_value( ) method returns the discharge value at each time step. update( ) method updates the current time step of the data component."
   ]
  },
  {
   "cell_type": "code",
   "execution_count": null,
   "metadata": {},
   "outputs": [],
   "source": [
    "# initiate numpy arrays to store discharge data\n",
    "discharge_value = np.empty(1)\n",
    "discharge_array = np.empty(time_steps)\n",
    "cftime_array = np.empty(time_steps)\n",
    "\n",
    "for i in range(0, time_steps):\n",
    "    data_comp.get_value(\"discharge\", discharge_value)\n",
    "    discharge_array[i] = discharge_value[0]\n",
    "    cftime_array[i] = data_comp.get_current_time()\n",
    "    data_comp.update()\n",
    "\n",
    "time_array = cftime.num2date(\n",
    "    cftime_array,\n",
    "    time_unit,\n",
    "    only_use_cftime_datetimes=False,\n",
    "    only_use_python_datetimes=True,\n",
    ")"
   ]
  },
  {
   "cell_type": "code",
   "execution_count": null,
   "metadata": {},
   "outputs": [],
   "source": [
    "# plot discharge data\n",
    "plt.figure(figsize=(9, 5))\n",
    "plt.plot(time_array, discharge_array)\n",
    "plt.ylabel(\"discharge (cubic feet per second)\")\n",
    "plt.title(\"Discharge Observation at USGS Gage 03339000\")"
   ]
  }
 ],
 "metadata": {
  "kernelspec": {
   "display_name": "Python 3 (ipykernel)",
   "language": "python",
   "name": "python3"
  },
  "language_info": {
   "codemirror_mode": {
    "name": "ipython",
    "version": 3
   },
   "file_extension": ".py",
   "mimetype": "text/x-python",
   "name": "python",
   "nbconvert_exporter": "python",
   "pygments_lexer": "ipython3",
   "version": "3.12.1"
  }
 },
 "nbformat": 4,
 "nbformat_minor": 4
}
